{
 "cells": [
  {
   "cell_type": "code",
   "execution_count": 1,
   "metadata": {},
   "outputs": [
    {
     "name": "stdout",
     "output_type": "stream",
     "text": [
      "/nfs/earcemac/projects/unresp/ForecastVisualized/UNRESPForecastingSystem/Python\n"
     ]
    }
   ],
   "source": [
    "cd ~/UNRESP_FORECAST/Python"
   ]
  },
  {
   "cell_type": "code",
   "execution_count": 2,
   "metadata": {},
   "outputs": [],
   "source": [
    "import maptoolkit as mtk\n",
    "from dateutil.parser import parse\n",
    "import pytz"
   ]
  },
  {
   "cell_type": "code",
   "execution_count": 3,
   "metadata": {},
   "outputs": [],
   "source": [
    "date = '20181129'\n",
    "mpt = mtk.Masaya_Maps(date)"
   ]
  },
  {
   "cell_type": "code",
   "execution_count": 4,
   "metadata": {
    "scrolled": true
   },
   "outputs": [
    {
     "name": "stdout",
     "output_type": "stream",
     "text": [
      "Writing out file SO4_static_topoconcrec020001.png\n",
      "Writing out file SO4_static_topoconcrec020002.png\n",
      "Writing out file SO4_static_topoconcrec020003.png\n",
      "Writing out file SO4_static_topoconcrec020004.png\n",
      "Writing out file SO4_static_topoconcrec020005.png\n",
      "Writing out file SO4_static_topoconcrec020006.png\n",
      "Writing out file SO4_static_topoconcrec020007.png\n",
      "Writing out file SO4_static_topoconcrec020008.png\n",
      "Writing out file SO4_static_topoconcrec020009.png\n",
      "Writing out file SO4_static_topoconcrec020010.png\n",
      "Writing out file SO4_static_topoconcrec020011.png\n",
      "Writing out file SO4_static_topoconcrec020012.png\n",
      "Writing out file SO4_static_topoconcrec020013.png\n",
      "Writing out file SO4_static_topoconcrec020014.png\n",
      "Writing out file SO4_static_topoconcrec020015.png\n",
      "Writing out file SO4_static_topoconcrec020016.png\n",
      "Writing out file SO4_static_topoconcrec020017.png\n",
      "Writing out file SO4_static_topoconcrec020018.png\n",
      "Writing out file SO4_static_topoconcrec020019.png\n",
      "Writing out file SO4_static_topoconcrec020020.png\n",
      "Writing out file SO4_static_topoconcrec020021.png\n",
      "Writing out file SO4_static_topoconcrec020022.png\n",
      "Writing out file SO4_static_topoconcrec020023.png\n",
      "Writing out file SO4_static_topoconcrec020024.png\n",
      "Writing out file SO4_static_topoconcrec020025.png\n",
      "Writing out file SO4_static_topoconcrec020026.png\n",
      "Writing out file SO4_static_topoconcrec020027.png\n",
      "Writing out file SO4_static_topoconcrec020028.png\n",
      "Writing out file SO4_static_topoconcrec020029.png\n",
      "Writing out file SO4_static_topoconcrec020030.png\n",
      "Writing out file SO4_static_topoconcrec020031.png\n",
      "Writing out file SO4_static_topoconcrec020032.png\n",
      "Writing out file SO4_static_topoconcrec020033.png\n",
      "Writing out file SO4_static_topoconcrec020034.png\n",
      "Writing out file SO4_static_topoconcrec020035.png\n",
      "Writing out file SO4_static_topoconcrec020036.png\n",
      "Writing out file SO4_static_topoconcrec020037.png\n",
      "Writing out file SO4_static_topoconcrec020038.png\n",
      "Writing out file SO4_static_topoconcrec020039.png\n",
      "Writing out file SO4_static_topoconcrec020040.png\n",
      "Writing out file SO4_static_topoconcrec020041.png\n",
      "Writing out file SO4_static_topoconcrec020042.png\n",
      "Writing out file SO4_static_topoconcrec020043.png\n",
      "Writing out file SO4_static_topoconcrec020044.png\n",
      "Writing out file SO4_static_topoconcrec020045.png\n",
      "Writing out file SO4_static_topoconcrec020046.png\n",
      "Writing out file SO4_static_topoconcrec020047.png\n",
      "Writing out file SO4_static_topoconcrec020048.png\n"
     ]
    }
   ],
   "source": [
    "mpt.plot_staticmaps('topo', SOX='SO4')\n"
   ]
  },
  {
   "cell_type": "code",
   "execution_count": 4,
   "metadata": {
    "scrolled": true
   },
   "outputs": [
    {
     "name": "stdout",
     "output_type": "stream",
     "text": [
      "Writing out file SO4_google_concrec020001.html\n",
      "Writing out file SO4_google_concrec020002.html\n",
      "Writing out file SO4_google_concrec020003.html\n",
      "Writing out file SO4_google_concrec020004.html\n",
      "Writing out file SO4_google_concrec020005.html\n",
      "Writing out file SO4_google_concrec020006.html\n",
      "Writing out file SO4_google_concrec020007.html\n",
      "Writing out file SO4_google_concrec020008.html\n",
      "Writing out file SO4_google_concrec020009.html\n",
      "Writing out file SO4_google_concrec020010.html\n",
      "Writing out file SO4_google_concrec020011.html\n",
      "Writing out file SO4_google_concrec020012.html\n",
      "Writing out file SO4_google_concrec020013.html\n",
      "Writing out file SO4_google_concrec020014.html\n",
      "Writing out file SO4_google_concrec020015.html\n",
      "Writing out file SO4_google_concrec020016.html\n",
      "Writing out file SO4_google_concrec020017.html\n",
      "Writing out file SO4_google_concrec020018.html\n",
      "Writing out file SO4_google_concrec020019.html\n",
      "Writing out file SO4_google_concrec020020.html\n",
      "Writing out file SO4_google_concrec020021.html\n",
      "Writing out file SO4_google_concrec020022.html\n",
      "Writing out file SO4_google_concrec020023.html\n",
      "Writing out file SO4_google_concrec020024.html\n",
      "Writing out file SO4_google_concrec020025.html\n",
      "Writing out file SO4_google_concrec020026.html\n",
      "Writing out file SO4_google_concrec020027.html\n",
      "Writing out file SO4_google_concrec020028.html\n",
      "Writing out file SO4_google_concrec020029.html\n",
      "Writing out file SO4_google_concrec020030.html\n",
      "Writing out file SO4_google_concrec020031.html\n",
      "Writing out file SO4_google_concrec020032.html\n",
      "Writing out file SO4_google_concrec020033.html\n",
      "Writing out file SO4_google_concrec020034.html\n",
      "Writing out file SO4_google_concrec020035.html\n",
      "Writing out file SO4_google_concrec020036.html\n",
      "Writing out file SO4_google_concrec020037.html\n",
      "Writing out file SO4_google_concrec020038.html\n",
      "Writing out file SO4_google_concrec020039.html\n",
      "Writing out file SO4_google_concrec020040.html\n",
      "Writing out file SO4_google_concrec020041.html\n",
      "Writing out file SO4_google_concrec020042.html\n",
      "Writing out file SO4_google_concrec020043.html\n",
      "Writing out file SO4_google_concrec020044.html\n",
      "Writing out file SO4_google_concrec020045.html\n",
      "Writing out file SO4_google_concrec020046.html\n",
      "Writing out file SO4_google_concrec020047.html\n",
      "Writing out file SO4_google_concrec020048.html\n"
     ]
    }
   ],
   "source": [
    "mpt.plot_google(SOX='SO4')"
   ]
  },
  {
   "cell_type": "code",
   "execution_count": 6,
   "metadata": {},
   "outputs": [],
   "source": [
    "SOX='SO2'"
   ]
  },
  {
   "cell_type": "code",
   "execution_count": 27,
   "metadata": {},
   "outputs": [],
   "source": [
    "SOXf=r'SO$_'+SOX[-1]+'$'"
   ]
  },
  {
   "cell_type": "code",
   "execution_count": 35,
   "metadata": {},
   "outputs": [
    {
     "name": "stdout",
     "output_type": "stream",
     "text": [
      "'SO$_2$'\n"
     ]
    }
   ],
   "source": [
    "print(\"%r\"%SOXf)"
   ]
  },
  {
   "cell_type": "code",
   "execution_count": 16,
   "metadata": {},
   "outputs": [],
   "source": [
    "from matplotlib import rcParams\n",
    "rcParams['text.usetex'] = True"
   ]
  },
  {
   "cell_type": "code",
   "execution_count": 36,
   "metadata": {},
   "outputs": [
    {
     "name": "stdout",
     "output_type": "stream",
     "text": [
      "SO$_2$\n"
     ]
    }
   ],
   "source": [
    "print(SOXf)"
   ]
  },
  {
   "cell_type": "code",
   "execution_count": 37,
   "metadata": {},
   "outputs": [
    {
     "name": "stdout",
     "output_type": "stream",
     "text": [
      "SO${_2}$\n"
     ]
    }
   ],
   "source": [
    "print(SOt)"
   ]
  },
  {
   "cell_type": "code",
   "execution_count": 38,
   "metadata": {},
   "outputs": [
    {
     "data": {
      "text/plain": [
       "\"'SO$_2$'\""
      ]
     },
     "execution_count": 38,
     "metadata": {},
     "output_type": "execute_result"
    }
   ],
   "source": [
    "\"%r\"%SOXf"
   ]
  },
  {
   "cell_type": "code",
   "execution_count": null,
   "metadata": {},
   "outputs": [],
   "source": []
  }
 ],
 "metadata": {
  "kernelspec": {
   "display_name": "Python 3",
   "language": "python",
   "name": "python3"
  },
  "language_info": {
   "codemirror_mode": {
    "name": "ipython",
    "version": 3
   },
   "file_extension": ".py",
   "mimetype": "text/x-python",
   "name": "python",
   "nbconvert_exporter": "python",
   "pygments_lexer": "ipython3",
   "version": "3.7.1"
  }
 },
 "nbformat": 4,
 "nbformat_minor": 2
}

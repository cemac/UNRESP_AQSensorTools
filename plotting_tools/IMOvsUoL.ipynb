{
 "cells": [
  {
   "cell_type": "markdown",
   "metadata": {},
   "source": [
    "# IMO vs UoL"
   ]
  },
  {
   "cell_type": "markdown",
   "metadata": {},
   "source": [
    "Take the concrec dat files from IMO and UoL\n",
    "\n",
    "* 2 example days example_data/IMO/Datestamp exmaple_data/UoL/datestamp\n",
    "* 1 produce B2R diff plots for each hour\n",
    "* Stats of diff?"
   ]
  },
  {
   "cell_type": "code",
   "execution_count": 1,
   "metadata": {},
   "outputs": [],
   "source": [
    "import numpy as np\n",
    "import matplotlib.pyplot as plt\n",
    "import matplotlib.image as mpimg\n",
    "from mpl_toolkits.mplot3d import axes3d\n",
    "from matplotlib.font_manager import FontProperties\n",
    "import os\n",
    "import datetime as dt\n",
    "import pytz\n",
    "import utm\n",
    "import cartopy.crs as ccrs\n",
    "import cartopy.io.img_tiles as cimgt\n",
    "import cartopy\n",
    "import cartopy.feature as cfeat\n",
    "from cartopy.mpl.gridliner import LONGITUDE_FORMATTER, LATITUDE_FORMATTER\n",
    "import netCDF4\n",
    "from dateutil.parser import parse\n",
    "\n",
    "def Read_Two_Column_File(file_name):\n",
    "    with open(file_name, 'r') as data:\n",
    "        x = []\n",
    "        y = []\n",
    "        for line in data:\n",
    "            p = line.split()\n",
    "            x.append(float(p[0]))\n",
    "            y.append(float(p[1]))\n",
    "\n",
    "    return x, y\n",
    "\n",
    "# Following gendata.py\n",
    "date = '20181129/' # Most Recent run filled in here\n",
    "imopath = 'example_data/IMO/'\n",
    "uolpath = 'example_data/UoL/'\n",
    "imoconcDir = imopath  + date\n",
    "uolconcDir =  uolpath + date\n",
    "ixyFile = imoconcDir + 'xy_masaya.dat'\n",
    "lxyFile = uolconcDir + 'xy_masaya.dat'\n",
    "outDir = \"../plots/diffs\"\n",
    "nConcFiles = 48  # Number of conc files to process (48 = full 2 days)\n",
    "towns = (' El Panama', ' Rigoberto', ' Pacaya', ' El Crucero',\n",
    "         ' La Concepcion', ' Masaya', ' San Marcos',\n",
    "         ' San Rafael del Sur', ' Diriamba', ' Jinotepe', ' Masatepe')\n",
    "townCoords = ((-86.2058, 11.972), (-86.2021, 11.9617), (-86.3013, 11.9553),\n",
    "              (-86.3113, 11.9923), (-86.189772, 11.936161),\n",
    "              (-86.096053, 11.973523), (-86.20317, 11.906584),\n",
    "              (-86.43639, 11.847034), (-86.239592, 11.85632),\n",
    "              (-86.19993, 11.85017), (-86.143758, 11.91512))\n",
    "cities = (' MANAGUA',)\n",
    "cityCoords = ((-86.29, 12.12),)\n",
    "volcCoords = (-86.1608, 11.9854)\n",
    "so2title = 'Difference in UoL CALPUF vs IMO Calpuf'\n",
    "font = FontProperties()\n",
    "font.set_weight('bold')\n",
    "font.set_family('monospace')\n",
    "\n",
    "startDate = pytz.utc.localize(parse('20181129'))\n",
    "dates = []\n",
    "for i in range(nConcFiles):\n",
    "    iDate = startDate + dt.timedelta(hours=i + 1)\n",
    "    dates.append(iDate)\n",
    "\n",
    "\n",
    "def concfiles(nConcFiles, concDir):\n",
    "    filenames = []\n",
    "    filePaths = []\n",
    "    for i in range(nConcFiles):\n",
    "        s = str('{:02}'.format(i + 1))  # Ensures e.g. '1' is converted to '01'\n",
    "        fileName = 'concrec0100' + s + '.dat'\n",
    "        filenames.append(fileName)\n",
    "        filePath = os.path.join(concDir, fileName)\n",
    "        filePaths.append(filePath)\n",
    "        assert os.path.exists(filePath), \"File \" + \\\n",
    "            filePath + \" not found. Check path.\"\n",
    "    return filePaths \n",
    "\n",
    "imofp = concfiles(nConcFiles, imoconcDir)\n",
    "uolfp = concfiles(nConcFiles, uolconcDir)"
   ]
  },
  {
   "cell_type": "code",
   "execution_count": 2,
   "metadata": {},
   "outputs": [],
   "source": [
    "def genxy(xyFile):\n",
    "    x, y = Read_Two_Column_File(xyFile)  # read in x,y data\n",
    "    xunq, yunq = np.unique(x), np.unique(y)  # get unique x,y coordinates\n",
    "    nx, ny = len(xunq), len(yunq)  # number of unique x,y coordinates\n",
    "    # Use utm package to convert from x,y to lat,lon...\n",
    "    # ...Nicaragua is UTM zone 16P, and we must convert to metres first:\n",
    "    lat = [utm.to_latlon(x[i] * 1000, y[i] * 1000, 16, 'P')[0]\n",
    "           for i in np.arange(0, len(x))]\n",
    "    lon = [utm.to_latlon(x[i] * 1000, y[i] * 1000, 16, 'P')[1]\n",
    "           for i in np.arange(0, len(x))]\n",
    "    # Create gridded field of lat,lon of appropriate size:\n",
    "    glat, glon = np.reshape(lat, (ny, nx)),  np.reshape(lon, (ny, nx))\n",
    "    # Also grab range for static plots\n",
    "    latMin = min(lat)\n",
    "    latMax = max(lat)\n",
    "    lonMin = min(lon)\n",
    "    lonMax = max(lon)\n",
    "    return glat, glon, latMin, latMax, lonMin, lonMax, ny, nx\n"
   ]
  },
  {
   "cell_type": "code",
   "execution_count": 3,
   "metadata": {},
   "outputs": [],
   "source": [
    "def conc_array(ny, nx, filePaths, dates):\n",
    "    #for fle, dat in zip(filePaths[0], dates[0]):\n",
    "        # Read in concentration data:\n",
    "    f = open(filePaths[30], 'r')\n",
    "    lines = f.read().splitlines()\n",
    "    f.close\n",
    "    # Process concentration data into desired format:\n",
    "    conc = np.array([float(X) for X in lines]) * 100**3  # ug/cm^3 -> ug/m^3\n",
    "    concAry = np.reshape(conc, (ny, nx))  # Reshape data onto latlon grid\n",
    "    return concAry"
   ]
  },
  {
   "cell_type": "code",
   "execution_count": 14,
   "metadata": {},
   "outputs": [],
   "source": [
    "# Checked, as expected lat lons same between both\n",
    "def plot_diff(ixyFile, imofp, uolfp, dates):\n",
    "    glat, glon, latMin, latMax, lonMin, lonMax, ny, nx =  genxy(ixyFile)\n",
    "    request = cimgt.OSM()\n",
    "    fig = plt.subplots(nrows=1, ncols=1, figsize=(15, 15))\n",
    "    ax1 = plt.subplot(1, 1, 1, projection=ccrs.PlateCarree())\n",
    "    #ax1.coastlines('50m')\n",
    "    #ax1.add_image(request, 10, interpolation='spline36')\n",
    "    ax1.set_extent([lonMin,lonMax,latMin,latMax], ccrs.PlateCarree())\n",
    "    imoconc = conc_array(ny, nx, imofp, dates)\n",
    "    uolconc = conc_array(ny, nx, uolfp, dates)\n",
    "    concdiff = uolconc - imoconc \n",
    "    perc = concdiff#/uolconc *100\n",
    "    scale = perc \n",
    "    scale[abs(scale)<1]=np.nan\n",
    "    binLims = np.arange(-210,210,10)+5\n",
    "    p = ax1.contourf(glon, glat, scale, cmap=plt.cm.get_cmap('seismic'))\n",
    "    #gl = ax1.gridlines(draw_labels=True, alpha=0.2)\n",
    "    #gl.xlabels_top = gl.ylabels_right = False\n",
    "    #gl.xformatter = LONGITUDE_FORMATTER\n",
    "    #gl.yformatter = LATITUDE_FORMATTER\n",
    "    cbar = plt.colorbar(p, extend='both', orientation='horizontal',ticks=np.arange(-200,205,40), label='% difference')\n",
    "    cbar.ax.tick_params( labelsize=14) \n",
    "    return concdiff, uolconc, imoconc"
   ]
  },
  {
   "cell_type": "code",
   "execution_count": 15,
   "metadata": {
    "scrolled": false
   },
   "outputs": [
    {
     "data": {
      "image/png": "[encoded data removed]",
      "text/plain": [
       "<Figure size 1080x1080 with 2 Axes>"
      ]
     },
     "metadata": {
      "needs_background": "light"
     },
     "output_type": "display_data"
    }
   ],
   "source": [
    "cdf = plot_diff(ixyFile, imofp, uolfp, dates)"
   ]
  },
  {
   "cell_type": "code",
   "execution_count": 16,
   "metadata": {},
   "outputs": [
    {
     "name": "stdout",
     "output_type": "stream",
     "text": [
      "/nfs/earcemac/projects/unresp/ForecastVisualized/UNRESPForecastingSystem\n"
     ]
    }
   ],
   "source": [
    "cd ~/UNRESP_FORECAST/"
   ]
  },
  {
   "cell_type": "code",
   "execution_count": 18,
   "metadata": {},
   "outputs": [
    {
     "name": "stdout",
     "output_type": "stream",
     "text": [
      "/nfs/earcemac/projects/unresp/ForecastVisualized/UNRESPForecastingSystem/Python\n"
     ]
    }
   ],
   "source": [
    "cd Python/\n"
   ]
  },
  {
   "cell_type": "code",
   "execution_count": 28,
   "metadata": {},
   "outputs": [],
   "source": [
    "import maptoolkit as mtk"
   ]
  },
  {
   "cell_type": "code",
   "execution_count": 29,
   "metadata": {},
   "outputs": [],
   "source": [
    "from dateutil.parser import parse"
   ]
  },
  {
   "cell_type": "code",
   "execution_count": 30,
   "metadata": {},
   "outputs": [],
   "source": [
    "date = '20181129/' # Most Recent run filled in here\n",
    "\n",
    "startDate = pytz.utc.localize(parse('20181129'))\n",
    "\n",
    "mpt = mtk.Masaya_Maps()"
   ]
  },
  {
   "cell_type": "code",
   "execution_count": 38,
   "metadata": {},
   "outputs": [
    {
     "data": {
      "text/plain": [
       "<function Masaya_Maps.mro()>"
      ]
     },
     "execution_count": 38,
     "metadata": {},
     "output_type": "execute_result"
    }
   ],
   "source": [
    "mtk.Masaya_Maps.mro\n"
   ]
  },
  {
   "cell_type": "markdown",
   "metadata": {},
   "source": []
  }
 ],
 "metadata": {
  "kernelspec": {
   "display_name": "Python 3",
   "language": "python",
   "name": "python3"
  },
  "language_info": {
   "codemirror_mode": {
    "name": "ipython",
    "version": 3
   },
   "file_extension": ".py",
   "mimetype": "text/x-python",
   "name": "python",
   "nbconvert_exporter": "python",
   "pygments_lexer": "ipython3",
   "version": "3.7.1"
  }
 },
 "nbformat": 4,
 "nbformat_minor": 2
}
